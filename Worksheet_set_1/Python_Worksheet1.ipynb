{
 "cells": [
  {
   "cell_type": "code",
   "execution_count": 2,
   "id": "4ea570fd",
   "metadata": {},
   "outputs": [
    {
     "name": "stdout",
     "output_type": "stream",
     "text": [
      "Enter any number:6\n",
      "The factorial of a number is  720\n"
     ]
    }
   ],
   "source": [
    "# Ques.11 Program to find the factorial of a number.\n",
    "\n",
    "num = int(input(\"Enter any number:\"))\n",
    "f=1\n",
    "\n",
    "while num > 0:\n",
    "    fact= f*num\n",
    "    num=num-1\n",
    "    f=fact\n",
    "    \n",
    "print(\"The factorial of a number is \",fact)    "
   ]
  },
  {
   "cell_type": "code",
   "execution_count": 5,
   "id": "c8ca14d1",
   "metadata": {},
   "outputs": [
    {
     "name": "stdout",
     "output_type": "stream",
     "text": [
      "Enter any number:7\n",
      "The number is prime.\n"
     ]
    }
   ],
   "source": [
    "# Ques.12 Program to find whether number is prime or composite.\n",
    "\n",
    "n = int(input(\"Enter any number:\"))\n",
    "\n",
    "for i in range(2,n):\n",
    "    if n%i == 0:\n",
    "        print(\"The number is composite.\")\n",
    "        break\n",
    "        \n",
    "        \n",
    "else:\n",
    "    print(\"The number is prime.\")\n",
    "    \n",
    "        \n",
    "        "
   ]
  },
  {
   "cell_type": "code",
   "execution_count": 13,
   "id": "66accdf3",
   "metadata": {},
   "outputs": [
    {
     "name": "stdout",
     "output_type": "stream",
     "text": [
      "Enter the string:mom\n",
      "The string is palindrome.\n"
     ]
    }
   ],
   "source": [
    "# Ques.13 Program to check string is palindrome or not.\n",
    "\n",
    "x = input(\"Enter the string:\")\n",
    "y = x[-1::-1]\n",
    "\n",
    "if x == y:\n",
    "    print(\"The string is palindrome.\")\n",
    "\n",
    "else:\n",
    "    print(\"The string is not palindrome.\")"
   ]
  },
  {
   "cell_type": "code",
   "execution_count": 14,
   "id": "a4a1c343",
   "metadata": {},
   "outputs": [
    {
     "name": "stdout",
     "output_type": "stream",
     "text": [
      "Enter the first value:3\n",
      "Enter the second value:4\n",
      "The value of third side is  5.0\n"
     ]
    }
   ],
   "source": [
    "# Ques.14 Program to find the third side of right angled triangle from two given sides.\n",
    "\n",
    "import numpy as np\n",
    "\n",
    "a = float(input(\"Enter the first value:\"))\n",
    "b = float(input(\"Enter the second value:\"))\n",
    "\n",
    "c = np.sqrt((a*a)+(b*b))\n",
    "\n",
    "print(\"The value of third side is \",c)"
   ]
  },
  {
   "cell_type": "code",
   "execution_count": 16,
   "id": "ee4f9824",
   "metadata": {},
   "outputs": [
    {
     "name": "stdout",
     "output_type": "stream",
     "text": [
      "Enter the string:Ramesh Kumar@1234\n",
      "The frequency of each character is  17\n"
     ]
    }
   ],
   "source": [
    "# Ques.15 Program to print the frequency of each character present in a given string.\n",
    "\n",
    "data = input(\"Enter the string:\")\n",
    "alpha = 0\n",
    "numeric = 0\n",
    "other = 0\n",
    "\n",
    "for i in data:\n",
    "    \n",
    "    if i.isalpha() == True:\n",
    "        alpha = alpha + 1\n",
    "    elif i.isdigit() == True:\n",
    "        numeric = numeric + 1\n",
    "    else:\n",
    "        other = other + 1\n",
    "\n",
    "Total = alpha + numeric + other\n",
    "\n",
    "print(\"The frequency of each character is \",Total)"
   ]
  }
 ],
 "metadata": {
  "kernelspec": {
   "display_name": "Python 3 (ipykernel)",
   "language": "python",
   "name": "python3"
  },
  "language_info": {
   "codemirror_mode": {
    "name": "ipython",
    "version": 3
   },
   "file_extension": ".py",
   "mimetype": "text/x-python",
   "name": "python",
   "nbconvert_exporter": "python",
   "pygments_lexer": "ipython3",
   "version": "3.9.7"
  }
 },
 "nbformat": 4,
 "nbformat_minor": 5
}
